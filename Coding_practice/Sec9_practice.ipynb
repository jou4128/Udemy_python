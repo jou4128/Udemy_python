{
 "cells": [
  {
   "cell_type": "markdown",
   "id": "4ecc1439",
   "metadata": {},
   "source": [
    "- https://yuhsien.notion.site/Python-Practice-30411d016dcc4fafa82559fe6d9259ea"
   ]
  },
  {
   "cell_type": "markdown",
   "id": "55a7c0c7",
   "metadata": {},
   "source": [
    "## Simple Exercise I"
   ]
  },
  {
   "cell_type": "markdown",
   "id": "1fe77e30",
   "metadata": {},
   "source": [
    "1. Write a function called \"printMany\" that prints out integers 1, 2, 3, ..., 100."
   ]
  },
  {
   "cell_type": "code",
   "execution_count": 2,
   "id": "23b89be8",
   "metadata": {},
   "outputs": [
    {
     "name": "stdout",
     "output_type": "stream",
     "text": [
      "1\n",
      "2\n",
      "3\n",
      "4\n",
      "5\n",
      "6\n",
      "7\n",
      "8\n",
      "9\n",
      "10\n",
      "11\n",
      "12\n",
      "13\n",
      "14\n",
      "15\n",
      "16\n",
      "17\n",
      "18\n",
      "19\n",
      "20\n",
      "21\n",
      "22\n",
      "23\n",
      "24\n",
      "25\n",
      "26\n",
      "27\n",
      "28\n",
      "29\n",
      "30\n",
      "31\n",
      "32\n",
      "33\n",
      "34\n",
      "35\n",
      "36\n",
      "37\n",
      "38\n",
      "39\n",
      "40\n",
      "41\n",
      "42\n",
      "43\n",
      "44\n",
      "45\n",
      "46\n",
      "47\n",
      "48\n",
      "49\n",
      "50\n",
      "51\n",
      "52\n",
      "53\n",
      "54\n",
      "55\n",
      "56\n",
      "57\n",
      "58\n",
      "59\n",
      "60\n",
      "61\n",
      "62\n",
      "63\n",
      "64\n",
      "65\n",
      "66\n",
      "67\n",
      "68\n",
      "69\n",
      "70\n",
      "71\n",
      "72\n",
      "73\n",
      "74\n",
      "75\n",
      "76\n",
      "77\n",
      "78\n",
      "79\n",
      "80\n",
      "81\n",
      "82\n",
      "83\n",
      "84\n",
      "85\n",
      "86\n",
      "87\n",
      "88\n",
      "89\n",
      "90\n",
      "91\n",
      "92\n",
      "93\n",
      "94\n",
      "95\n",
      "96\n",
      "97\n",
      "98\n",
      "99\n",
      "100\n"
     ]
    }
   ],
   "source": [
    "def printMany():\n",
    "    for i in range(1, 101):\n",
    "        print(i)\n",
    "\n",
    "printMany()\n"
   ]
  },
  {
   "cell_type": "markdown",
   "id": "d3244528",
   "metadata": {},
   "source": [
    "2. Write a function called \"printEvery3\" that prints out integers 1, 4, 7, 10, ..., 88."
   ]
  },
  {
   "cell_type": "code",
   "execution_count": 3,
   "id": "dbc34bf6",
   "metadata": {},
   "outputs": [
    {
     "name": "stdout",
     "output_type": "stream",
     "text": [
      "1\n",
      "4\n",
      "7\n",
      "10\n",
      "13\n",
      "16\n",
      "19\n",
      "22\n",
      "25\n",
      "28\n",
      "31\n",
      "34\n",
      "37\n",
      "40\n",
      "43\n",
      "46\n",
      "49\n",
      "52\n",
      "55\n",
      "58\n",
      "61\n",
      "64\n",
      "67\n",
      "70\n",
      "73\n",
      "76\n",
      "79\n",
      "82\n",
      "85\n",
      "88\n"
     ]
    }
   ],
   "source": [
    "def printEvery3():\n",
    "    for i in range(1, 89, 3):\n",
    "        print(i)\n",
    "\n",
    "printEvery3()"
   ]
  },
  {
   "cell_type": "markdown",
   "id": "6a4d0ac2",
   "metadata": {},
   "source": [
    "3. Write a function called \"position\" that returns a tuple of the first uppercase letter and its index location. If not found, returns -1."
   ]
  },
  {
   "cell_type": "code",
   "execution_count": 8,
   "id": "a0edfd25",
   "metadata": {},
   "outputs": [
    {
     "name": "stdout",
     "output_type": "stream",
     "text": [
      "-1\n",
      "('A', 0)\n",
      "('C', 2)\n"
     ]
    }
   ],
   "source": [
    "def position(string):\n",
    "    for idx, letter in enumerate(string):\n",
    "        if letter.isupper():\n",
    "            return (letter, idx)\n",
    "    return -1\n",
    "\n",
    "print(position(\"abcd\"))\n",
    "print(position(\"AbcD\"))\n",
    "print(position(\"abCD\"))"
   ]
  },
  {
   "cell_type": "markdown",
   "id": "b2a25b4b",
   "metadata": {},
   "source": [
    "4. Write a function called \"findSmallCount\" that takes one list of integers and one integer as input, and returns an integer indicating how many elements in the list is smaller than the input integer."
   ]
  },
  {
   "cell_type": "code",
   "execution_count": 10,
   "id": "737f63ee",
   "metadata": {},
   "outputs": [
    {
     "name": "stdout",
     "output_type": "stream",
     "text": [
      "1\n",
      "0\n"
     ]
    }
   ],
   "source": [
    "def findSmallCount(lst, target):\n",
    "    count = 0\n",
    "    for num in lst:\n",
    "        if num < target:\n",
    "            count += 1\n",
    "    return count\n",
    "\n",
    "print(findSmallCount([1, 2, 3], 2))\n",
    "print(findSmallCount([1, 2, 3, 4, 5], 0))"
   ]
  },
  {
   "cell_type": "markdown",
   "id": "29c54af1",
   "metadata": {},
   "source": [
    "5. Write a function called \"findSmallerTotal\" that takes one list of integers and one integer as input, and returns the sum of all elements in the list that are smaller than the input integer. "
   ]
  },
  {
   "cell_type": "code",
   "execution_count": 11,
   "id": "86256deb",
   "metadata": {},
   "outputs": [
    {
     "name": "stdout",
     "output_type": "stream",
     "text": [
      "3\n",
      "0\n",
      "25\n",
      "0\n"
     ]
    }
   ],
   "source": [
    "def findSmallerTotal(lst, target):\n",
    "    total = 0\n",
    "    for num in lst:\n",
    "        if num < target:\n",
    "            total += num\n",
    "    return total\n",
    "\n",
    "print(findSmallerTotal([1, 2, 3], 3))\n",
    "print(findSmallerTotal([1, 2, 3], 1))\n",
    "print(findSmallerTotal([3, 2, 5, 8, 7], 999))\n",
    "print(findSmallerTotal([3, 2, 5, 8, 7], 0))"
   ]
  },
  {
   "cell_type": "markdown",
   "id": "460a91e1",
   "metadata": {},
   "source": [
    "6. Write a function called \"findAllSmall\" that takes one list of integers and another integer as input, and returns an list of integers that contains all elements that are smaller than the input integer."
   ]
  },
  {
   "cell_type": "code",
   "execution_count": 12,
   "id": "7e9c6810",
   "metadata": {},
   "outputs": [
    {
     "name": "stdout",
     "output_type": "stream",
     "text": [
      "[1, 2, 3]\n",
      "[1]\n",
      "[1, 3, 2]\n"
     ]
    }
   ],
   "source": [
    "def findAllSmall(lst, target):\n",
    "    small_list = []\n",
    "    for num in lst:\n",
    "        if num < target:\n",
    "            small_list.append(num)\n",
    "    return small_list\n",
    "\n",
    "print(findAllSmall([1, 2, 3], 10))\n",
    "print(findAllSmall([1, 2, 3], 2))\n",
    "print(findAllSmall([1, 3, 5, 4, 2], 4))"
   ]
  },
  {
   "cell_type": "markdown",
   "id": "ae2b3c51",
   "metadata": {},
   "source": [
    "7. Write a function called \"summ\" that takes one list of numbers, and return the sum of all elements in the input list."
   ]
  },
  {
   "cell_type": "code",
   "execution_count": 13,
   "id": "3288a5c0",
   "metadata": {},
   "outputs": [
    {
     "name": "stdout",
     "output_type": "stream",
     "text": [
      "55\n",
      "0\n",
      "-60\n"
     ]
    }
   ],
   "source": [
    "def summ(lst):\n",
    "    total = 0\n",
    "    for num in lst:\n",
    "        total += num\n",
    "    return total\n",
    "\n",
    "print(summ([1, 2, 3, 4, 5, 6, 7, 8, 9, 10]))\n",
    "print(summ([]))\n",
    "print(summ([-10, -20, -30]))"
   ]
  },
  {
   "cell_type": "markdown",
   "id": "bc65fc21",
   "metadata": {},
   "source": [
    "## Simple Exercise II"
   ]
  },
  {
   "cell_type": "markdown",
   "id": "7c586202",
   "metadata": {},
   "source": [
    "1. Write a function called \"stars\" which prints out layers of stars in the following pattern:"
   ]
  },
  {
   "cell_type": "code",
   "execution_count": null,
   "id": "1a2a7a1b",
   "metadata": {},
   "outputs": [],
   "source": [
    "stars(1);\n",
    "# *\n",
    "stars(4);\n",
    "# *\n",
    "# **\n",
    "# ***\n",
    "# ****"
   ]
  },
  {
   "cell_type": "code",
   "execution_count": 16,
   "id": "01d5055f",
   "metadata": {},
   "outputs": [
    {
     "name": "stdout",
     "output_type": "stream",
     "text": [
      "*\n",
      "**\n",
      "***\n",
      "****\n"
     ]
    }
   ],
   "source": [
    "def stars(num):\n",
    "    for i in range(1, num+1):\n",
    "        print(\"*\"*i)\n",
    "\n",
    "stars(4)"
   ]
  },
  {
   "cell_type": "markdown",
   "id": "5ea35387",
   "metadata": {},
   "source": [
    "2. Write a function called \"stars2\" which prints out layers of stars in the following pattern:"
   ]
  },
  {
   "cell_type": "code",
   "execution_count": null,
   "id": "ee7bd07c",
   "metadata": {},
   "outputs": [],
   "source": [
    "stars2(2);\n",
    "# *\n",
    "# **\n",
    "# *\n",
    "stars2(3);\n",
    "# *\n",
    "# **\n",
    "# ***\n",
    "# **\n",
    "# *\n",
    "stars2(4);\n",
    "# *\n",
    "# **\n",
    "# ***\n",
    "# ****\n",
    "# ***\n",
    "# **\n",
    "# *"
   ]
  },
  {
   "cell_type": "code",
   "execution_count": 7,
   "id": "89129c64",
   "metadata": {},
   "outputs": [
    {
     "name": "stdout",
     "output_type": "stream",
     "text": [
      "*\n",
      "**\n",
      "***\n",
      "****\n",
      "***\n",
      "**\n",
      "*\n"
     ]
    }
   ],
   "source": [
    "def stars2(num):\n",
    "    for i in range(1, num):\n",
    "        print(\"*\"*i)\n",
    "    for i in range(num, 0, -1):\n",
    "        print(\"*\"*i)\n",
    "\n",
    "stars2(4)"
   ]
  },
  {
   "cell_type": "markdown",
   "id": "3a5632ba",
   "metadata": {},
   "source": [
    "3. Write a function called \"table\" which takes an input n, and prints out n x 1 to n x 9"
   ]
  },
  {
   "cell_type": "code",
   "execution_count": 9,
   "id": "92c66af4",
   "metadata": {},
   "outputs": [
    {
     "name": "stdout",
     "output_type": "stream",
     "text": [
      "3 x 1 = 3\n",
      "3 x 2 = 6\n",
      "3 x 3 = 9\n",
      "3 x 4 = 12\n",
      "3 x 5 = 15\n",
      "3 x 6 = 18\n",
      "3 x 7 = 21\n",
      "3 x 8 = 24\n",
      "3 x 9 = 27\n"
     ]
    }
   ],
   "source": [
    "def table(n):\n",
    "    for i in range(1, 10):\n",
    "        print(f\"{n} x {i} = {n*i}\")\n",
    "\n",
    "table(3)"
   ]
  },
  {
   "cell_type": "markdown",
   "id": "22987222",
   "metadata": {},
   "source": [
    "4. Write a function called \"table9to9\" that prints out the multiplication table:"
   ]
  },
  {
   "cell_type": "code",
   "execution_count": 10,
   "id": "2e91ceec",
   "metadata": {},
   "outputs": [
    {
     "name": "stdout",
     "output_type": "stream",
     "text": [
      "1 x 1 = 1\n",
      "1 x 2 = 2\n",
      "1 x 3 = 3\n",
      "1 x 4 = 4\n",
      "1 x 5 = 5\n",
      "1 x 6 = 6\n",
      "1 x 7 = 7\n",
      "1 x 8 = 8\n",
      "1 x 9 = 9\n",
      "2 x 1 = 2\n",
      "2 x 2 = 4\n",
      "2 x 3 = 6\n",
      "2 x 4 = 8\n",
      "2 x 5 = 10\n",
      "2 x 6 = 12\n",
      "2 x 7 = 14\n",
      "2 x 8 = 16\n",
      "2 x 9 = 18\n",
      "3 x 1 = 3\n",
      "3 x 2 = 6\n",
      "3 x 3 = 9\n",
      "3 x 4 = 12\n",
      "3 x 5 = 15\n",
      "3 x 6 = 18\n",
      "3 x 7 = 21\n",
      "3 x 8 = 24\n",
      "3 x 9 = 27\n",
      "4 x 1 = 4\n",
      "4 x 2 = 8\n",
      "4 x 3 = 12\n",
      "4 x 4 = 16\n",
      "4 x 5 = 20\n",
      "4 x 6 = 24\n",
      "4 x 7 = 28\n",
      "4 x 8 = 32\n",
      "4 x 9 = 36\n",
      "5 x 1 = 5\n",
      "5 x 2 = 10\n",
      "5 x 3 = 15\n",
      "5 x 4 = 20\n",
      "5 x 5 = 25\n",
      "5 x 6 = 30\n",
      "5 x 7 = 35\n",
      "5 x 8 = 40\n",
      "5 x 9 = 45\n",
      "6 x 1 = 6\n",
      "6 x 2 = 12\n",
      "6 x 3 = 18\n",
      "6 x 4 = 24\n",
      "6 x 5 = 30\n",
      "6 x 6 = 36\n",
      "6 x 7 = 42\n",
      "6 x 8 = 48\n",
      "6 x 9 = 54\n",
      "7 x 1 = 7\n",
      "7 x 2 = 14\n",
      "7 x 3 = 21\n",
      "7 x 4 = 28\n",
      "7 x 5 = 35\n",
      "7 x 6 = 42\n",
      "7 x 7 = 49\n",
      "7 x 8 = 56\n",
      "7 x 9 = 63\n",
      "8 x 1 = 8\n",
      "8 x 2 = 16\n",
      "8 x 3 = 24\n",
      "8 x 4 = 32\n",
      "8 x 5 = 40\n",
      "8 x 6 = 48\n",
      "8 x 7 = 56\n",
      "8 x 8 = 64\n",
      "8 x 9 = 72\n",
      "9 x 1 = 9\n",
      "9 x 2 = 18\n",
      "9 x 3 = 27\n",
      "9 x 4 = 36\n",
      "9 x 5 = 45\n",
      "9 x 6 = 54\n",
      "9 x 7 = 63\n",
      "9 x 8 = 72\n",
      "9 x 9 = 81\n"
     ]
    }
   ],
   "source": [
    "def table9to9():\n",
    "    for i in range(1, 10):\n",
    "        for j in range(1, 10):\n",
    "            print(f\"{i} x {j} = {i*j}\")\n",
    "\n",
    "table9to9()"
   ]
  },
  {
   "cell_type": "markdown",
   "id": "816fbaf3",
   "metadata": {},
   "source": [
    "5. Write a function called \"swap\" that takes a string as input, and returns a new string with lowercase changed to uppercase, uppercase changed to lowercase."
   ]
  },
  {
   "cell_type": "code",
   "execution_count": 12,
   "id": "0bad8a4d",
   "metadata": {},
   "outputs": [
    {
     "name": "stdout",
     "output_type": "stream",
     "text": [
      "aLOHA\n",
      "lOVE YOU.\n"
     ]
    }
   ],
   "source": [
    "def swap(string):\n",
    "    new_str = \"\"\n",
    "    for letter in string:\n",
    "        if letter.isupper():\n",
    "            new_str += letter.lower()\n",
    "        else:\n",
    "            new_str += letter.upper()\n",
    "    return new_str\n",
    "\n",
    "print(swap(\"Aloha\"))\n",
    "print(swap(\"Love you.\"))\n"
   ]
  },
  {
   "cell_type": "markdown",
   "id": "1e345a36",
   "metadata": {},
   "source": [
    "6. Write a function called \"findMin\" which takes an list as input, and returns the minimum element in the input list."
   ]
  },
  {
   "cell_type": "code",
   "execution_count": 19,
   "id": "f3cf156a",
   "metadata": {},
   "outputs": [
    {
     "name": "stdout",
     "output_type": "stream",
     "text": [
      "1\n",
      "undefined\n",
      "-10\n"
     ]
    }
   ],
   "source": [
    "def findMin(lst):\n",
    "    if len(lst) == 0:\n",
    "        return \"undefined\"\n",
    "    min_num = lst[0]\n",
    "    for num in lst:\n",
    "        if num < min_num:\n",
    "            min_num = num\n",
    "    return min_num\n",
    "\n",
    "print(findMin([1, 2, 5, 6, 99, 4, 5]))\n",
    "print(findMin([]))\n",
    "print(findMin([1, 6, 0, 33, 44, 88, -10]))\n",
    "\n"
   ]
  },
  {
   "cell_type": "markdown",
   "id": "67261c4c",
   "metadata": {},
   "source": [
    "## Intermediate Exercise I"
   ]
  },
  {
   "cell_type": "markdown",
   "id": "9ecdd6c0",
   "metadata": {},
   "source": [
    "1. Write a function called \"mySort\" that takes an list of integers as input, and returns the sorted version of the input list. You are not allowed to use the built-in sorted() function."
   ]
  },
  {
   "cell_type": "code",
   "execution_count": 20,
   "id": "eef2c9b9",
   "metadata": {},
   "outputs": [
    {
     "data": {
      "text/plain": [
       "[-3, 0, 0.5, 1, 2, 17]"
      ]
     },
     "execution_count": 20,
     "metadata": {},
     "output_type": "execute_result"
    }
   ],
   "source": [
    "def mySort(lst):\n",
    "    sort_list = []\n",
    "    while len(lst) > 0:\n",
    "        min_num = min(lst)\n",
    "        sort_list.append(min_num)\n",
    "        lst.remove(min_num)\n",
    "    return sort_list\n",
    "\n",
    "mySort([17, 0, -3, 2, 1, 0.5])"
   ]
  },
  {
   "cell_type": "markdown",
   "id": "2cdaaba0",
   "metadata": {},
   "source": [
    "2. Write a function called \"isPrime\" that takes an integer as input, and returns a boolean value that indicates if the input number is prime."
   ]
  },
  {
   "cell_type": "code",
   "execution_count": 26,
   "id": "ab4ed471",
   "metadata": {},
   "outputs": [
    {
     "name": "stdout",
     "output_type": "stream",
     "text": [
      "False\n",
      "True\n",
      "False\n",
      "False\n"
     ]
    }
   ],
   "source": [
    "def isPrime(n):\n",
    "    if n == 1:\n",
    "        return False\n",
    "    \n",
    "    num = 2\n",
    "    while num < n:\n",
    "        if n % num == 0:\n",
    "            return False\n",
    "        num += 1\n",
    "    return True\n",
    "\n",
    "print(isPrime(1))\n",
    "print(isPrime(5))\n",
    "print(isPrime(91))\n",
    "print(isPrime(1000000))"
   ]
  },
  {
   "cell_type": "markdown",
   "id": "2a5dfd75",
   "metadata": {},
   "source": [
    "3. Write a function called \"palindrome\" that checks if the input string is a palindrome. (Search on google if you don't know what a palindrome is.)"
   ]
  },
  {
   "cell_type": "code",
   "execution_count": 28,
   "id": "70007bb9",
   "metadata": {},
   "outputs": [
    {
     "name": "stdout",
     "output_type": "stream",
     "text": [
      "True\n",
      "True\n",
      "False\n"
     ]
    }
   ],
   "source": [
    "def palindrome(string):\n",
    "    left = 0\n",
    "    right = len(string) - 1\n",
    "    while left <= right:\n",
    "        if string[left] != string[right]:\n",
    "            return False\n",
    "        left += 1\n",
    "        right -= 1\n",
    "    return True\n",
    "\n",
    "print(palindrome(\"bearaeb\"))\n",
    "print(palindrome(\"Whatever revetahW\"))\n",
    "print(palindrome(\"Aloha, how are you today?\"))"
   ]
  },
  {
   "cell_type": "markdown",
   "id": "66ea19d5",
   "metadata": {},
   "source": [
    "4. Write a function called \"pyramid\" that takes an integer as input, and prints a pyramid in the following pattern:"
   ]
  },
  {
   "cell_type": "code",
   "execution_count": null,
   "id": "211b9753",
   "metadata": {},
   "outputs": [],
   "source": [
    "pyramid(1);\n",
    "# *\n",
    "pyramid(2);\n",
    "#  *\n",
    "# ***\n",
    "pyramid(4);\n",
    "#    *\n",
    "#   ***\n",
    "#  *****\n",
    "# *******"
   ]
  },
  {
   "cell_type": "code",
   "execution_count": 37,
   "id": "64d332e0",
   "metadata": {},
   "outputs": [
    {
     "name": "stdout",
     "output_type": "stream",
     "text": [
      "       *\n",
      "      ***\n",
      "     *****\n",
      "    *******\n",
      "   *********\n",
      "  ***********\n",
      " *************\n"
     ]
    }
   ],
   "source": [
    "def pyramid(n):\n",
    "    for i in range(0, n):\n",
    "        print(\" \"*(n-i) + \"*\"*(i+i+1))\n",
    "pyramid(7)"
   ]
  },
  {
   "cell_type": "markdown",
   "id": "25f84342",
   "metadata": {},
   "source": [
    "5. Write a function called \"inversePyramid\" that draws pyramid upside down."
   ]
  },
  {
   "cell_type": "code",
   "execution_count": 41,
   "id": "917f6429",
   "metadata": {},
   "outputs": [
    {
     "name": "stdout",
     "output_type": "stream",
     "text": [
      " *************\n",
      "  ***********\n",
      "   *********\n",
      "    *******\n",
      "     *****\n",
      "      ***\n",
      "       *\n"
     ]
    }
   ],
   "source": [
    "def inversePyramid(n):\n",
    "    for i in range(n-1, -1, -1):\n",
    "        print(\" \"*(n-i) + \"*\"*(i+i+1))\n",
    "\n",
    "inversePyramid(7)"
   ]
  },
  {
   "cell_type": "markdown",
   "id": "371528f7",
   "metadata": {},
   "source": [
    "6. Given a list of ints, return True if the list contains a 3 next to a 3."
   ]
  },
  {
   "cell_type": "code",
   "execution_count": 44,
   "id": "894580d0",
   "metadata": {},
   "outputs": [
    {
     "name": "stdout",
     "output_type": "stream",
     "text": [
      "True\n",
      "False\n",
      "False\n"
     ]
    }
   ],
   "source": [
    "def has_33(lst):\n",
    "    pointer = 0\n",
    "    while pointer < len(lst):\n",
    "        if lst[pointer] == 3 and lst[pointer + 1] == 3:\n",
    "            return True\n",
    "        pointer += 1\n",
    "    return False\n",
    "\n",
    "print(has_33([1, 5, 7, 3, 3]))\n",
    "print(has_33([]))\n",
    "print(has_33([4, 3, 2, 1, 0]))\n"
   ]
  },
  {
   "cell_type": "markdown",
   "id": "a64279cd",
   "metadata": {},
   "source": [
    "7. Write a function that check if a list contains a subsequence of 007"
   ]
  },
  {
   "cell_type": "code",
   "execution_count": 52,
   "id": "7930dbfd",
   "metadata": {},
   "outputs": [
    {
     "name": "stdout",
     "output_type": "stream",
     "text": [
      "True\n",
      "False\n"
     ]
    }
   ],
   "source": [
    "def spyGame(lst):\n",
    "    target = [0, 0, 7]\n",
    "    target_pointer = 0\n",
    "    for num in lst:\n",
    "        if num == target[target_pointer]:\n",
    "            target_pointer += 1\n",
    "            if target_pointer == len(target):\n",
    "                return True\n",
    "    return False\n",
    "\n",
    "print(spyGame([1, 2, 4, 0, 3, 0, 7]))\n",
    "print(spyGame([1, 2, 5, 0, 3, 5, 1, 7]))"
   ]
  },
  {
   "cell_type": "markdown",
   "id": "0073aaf0",
   "metadata": {},
   "source": [
    "## Intermediate Exercises II"
   ]
  },
  {
   "cell_type": "markdown",
   "id": "dd91befb",
   "metadata": {},
   "source": [
    "1. Write a function called \"factorPrime\" that takes an integer as input, and returns the prime factorization of the input."
   ]
  },
  {
   "cell_type": "code",
   "execution_count": 67,
   "id": "1e3f3f83",
   "metadata": {},
   "outputs": [
    {
     "data": {
      "text/plain": [
       "'30 = 2 x 3 x 5'"
      ]
     },
     "execution_count": 67,
     "metadata": {},
     "output_type": "execute_result"
    }
   ],
   "source": [
    "def factorPrime(n):\n",
    "    output_str = str(n) + \" = \"\n",
    "    element = 2\n",
    "    while element <= n:\n",
    "        if n % element == 0:\n",
    "            output_str += str(element) + \" x \"\n",
    "            n /= element\n",
    "        else:\n",
    "            element += 1\n",
    "    return output_str[:len(output_str) - 3]\n",
    "\n",
    "factorPrime(30)\n"
   ]
  },
  {
   "cell_type": "markdown",
   "id": "746c672d",
   "metadata": {},
   "source": [
    "2. Write a function called \"intersection\" that takes 2 lists, and returns an list of elements that are in the intersection of 2 list."
   ]
  },
  {
   "cell_type": "code",
   "execution_count": 87,
   "id": "551ea6c1",
   "metadata": {},
   "outputs": [
    {
     "data": {
      "text/plain": [
       "[3, 4]"
      ]
     },
     "execution_count": 87,
     "metadata": {},
     "output_type": "execute_result"
    }
   ],
   "source": [
    "def intersection(lst1, lst2):\n",
    "    inter_list = []\n",
    "    for i in lst1:\n",
    "        for j in lst2:\n",
    "            if i == j:\n",
    "                inter_list.append(i)\n",
    "    return inter_list\n",
    "\n",
    "intersection([1, 3, 4, 6, 10], [5, 11, 4, 3, 100, 144, 0])\n"
   ]
  },
  {
   "cell_type": "code",
   "execution_count": null,
   "id": "bd1fcc39",
   "metadata": {},
   "outputs": [
    {
     "data": {
      "text/plain": [
       "[3, 4]"
      ]
     },
     "execution_count": 84,
     "metadata": {},
     "output_type": "execute_result"
    }
   ],
   "source": [
    "def intersection2(lst1, lst2):\n",
    "    return list(set(lst1) & set(lst2))\n",
    "\n",
    "intersection2([1, 3, 4, 6, 10], [5, 11, 4, 3, 100, 144, 0])\n"
   ]
  },
  {
   "cell_type": "markdown",
   "id": "4fd265fc",
   "metadata": {},
   "source": [
    "3. Write a function called \"flatten\" that flattens an list."
   ]
  },
  {
   "cell_type": "code",
   "execution_count": 86,
   "id": "e396224e",
   "metadata": {},
   "outputs": [
    {
     "data": {
      "text/plain": [
       "[1, 2, 0, 1, 3, 1, 3, 3, 4, 1, 2]"
      ]
     },
     "execution_count": 86,
     "metadata": {},
     "output_type": "execute_result"
    }
   ],
   "source": [
    "flat_list = []\n",
    "\n",
    "def flatten(lst):\n",
    "    for i in lst:\n",
    "        if type(i) == type([]):\n",
    "            flatten(i)\n",
    "        else:\n",
    "            flat_list.append(i)\n",
    "    return flat_list\n",
    "\n",
    "flatten([1, [[], 2, [0, [1]], [3]], [1, 3, [3], [4, [1]], [2]]])\n"
   ]
  },
  {
   "cell_type": "markdown",
   "id": "0c031809",
   "metadata": {},
   "source": []
  }
 ],
 "metadata": {
  "kernelspec": {
   "display_name": "base",
   "language": "python",
   "name": "python3"
  },
  "language_info": {
   "codemirror_mode": {
    "name": "ipython",
    "version": 3
   },
   "file_extension": ".py",
   "mimetype": "text/x-python",
   "name": "python",
   "nbconvert_exporter": "python",
   "pygments_lexer": "ipython3",
   "version": "3.11.4"
  }
 },
 "nbformat": 4,
 "nbformat_minor": 5
}
